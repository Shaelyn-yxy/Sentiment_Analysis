{
 "cells": [
  {
   "cell_type": "code",
   "execution_count": 1,
   "metadata": {},
   "outputs": [],
   "source": [
    "import numpy as np\n",
    "import pandas as pd\n",
    "import matplotlib.pyplot as plt\n",
    "import pickle\n",
    "from scipy import sparse\n",
    "from sklearn.model_selection import train_test_split\n",
    "from sklearn.naive_bayes import GaussianNB, MultinomialNB, BernoulliNB\n",
    "\n"
   ]
  },
  {
   "cell_type": "code",
   "execution_count": 2,
   "metadata": {},
   "outputs": [
    {
     "data": {
      "text/html": [
       "<div>\n",
       "<style scoped>\n",
       "    .dataframe tbody tr th:only-of-type {\n",
       "        vertical-align: middle;\n",
       "    }\n",
       "\n",
       "    .dataframe tbody tr th {\n",
       "        vertical-align: top;\n",
       "    }\n",
       "\n",
       "    .dataframe thead th {\n",
       "        text-align: right;\n",
       "    }\n",
       "</style>\n",
       "<table border=\"1\" class=\"dataframe\">\n",
       "  <thead>\n",
       "    <tr style=\"text-align: right;\">\n",
       "      <th></th>\n",
       "      <th>review</th>\n",
       "    </tr>\n",
       "  </thead>\n",
       "  <tbody>\n",
       "    <tr>\n",
       "      <th>0</th>\n",
       "      <td>dear longman &amp; eagle.......you've left me no c...</td>\n",
       "    </tr>\n",
       "    <tr>\n",
       "      <th>1</th>\n",
       "      <td>Delish. The hubby and I wanted to do brunch on...</td>\n",
       "    </tr>\n",
       "    <tr>\n",
       "      <th>2</th>\n",
       "      <td>yep, I've giving Yolk 5 stars. It's just reall...</td>\n",
       "    </tr>\n",
       "    <tr>\n",
       "      <th>3</th>\n",
       "      <td>Meat, meat, meat. It's meat-tastic. So much me...</td>\n",
       "    </tr>\n",
       "    <tr>\n",
       "      <th>4</th>\n",
       "      <td>I caught up with the law school girls on a Sat...</td>\n",
       "    </tr>\n",
       "  </tbody>\n",
       "</table>\n",
       "</div>"
      ],
      "text/plain": [
       "                                              review\n",
       "0  dear longman & eagle.......you've left me no c...\n",
       "1  Delish. The hubby and I wanted to do brunch on...\n",
       "2  yep, I've giving Yolk 5 stars. It's just reall...\n",
       "3  Meat, meat, meat. It's meat-tastic. So much me...\n",
       "4  I caught up with the law school girls on a Sat..."
      ]
     },
     "execution_count": 2,
     "metadata": {},
     "output_type": "execute_result"
    }
   ],
   "source": [
    "text_train = pd.read_csv(\"review_text_train.csv\")\n",
    "meta_train = pd.read_csv(\"review_meta_train.csv\")"
   ]
  },
  {
   "cell_type": "code",
   "execution_count": 3,
   "metadata": {},
   "outputs": [
    {
     "data": {
      "text/html": [
       "<div>\n",
       "<style scoped>\n",
       "    .dataframe tbody tr th:only-of-type {\n",
       "        vertical-align: middle;\n",
       "    }\n",
       "\n",
       "    .dataframe tbody tr th {\n",
       "        vertical-align: top;\n",
       "    }\n",
       "\n",
       "    .dataframe thead th {\n",
       "        text-align: right;\n",
       "    }\n",
       "</style>\n",
       "<table border=\"1\" class=\"dataframe\">\n",
       "  <thead>\n",
       "    <tr style=\"text-align: right;\">\n",
       "      <th></th>\n",
       "      <th>date</th>\n",
       "      <th>review_id</th>\n",
       "      <th>reviewer_id</th>\n",
       "      <th>business_id</th>\n",
       "      <th>vote_funny</th>\n",
       "      <th>vote_cool</th>\n",
       "      <th>vote_useful</th>\n",
       "      <th>rating</th>\n",
       "    </tr>\n",
       "  </thead>\n",
       "  <tbody>\n",
       "    <tr>\n",
       "      <th>0</th>\n",
       "      <td>3/15/2012</td>\n",
       "      <td>-s77HISu8DVQ8F0HxmWW6A</td>\n",
       "      <td>mthr7h15a_z9m9jRI6mG6Q</td>\n",
       "      <td>m5_GCJP2W4zEJnyVgxa3eA</td>\n",
       "      <td>0</td>\n",
       "      <td>1</td>\n",
       "      <td>3</td>\n",
       "      <td>1</td>\n",
       "    </tr>\n",
       "    <tr>\n",
       "      <th>1</th>\n",
       "      <td>6/21/2010</td>\n",
       "      <td>A2aCzGCgg6gAbatHiCrPfA</td>\n",
       "      <td>rhM01fl3iU0xHr3TIpCMhQ</td>\n",
       "      <td>m5_GCJP2W4zEJnyVgxa3eA</td>\n",
       "      <td>0</td>\n",
       "      <td>0</td>\n",
       "      <td>0</td>\n",
       "      <td>5</td>\n",
       "    </tr>\n",
       "    <tr>\n",
       "      <th>2</th>\n",
       "      <td>7/29/2011</td>\n",
       "      <td>DK2pd</td>\n",
       "      <td>SNHKDgmGiLn5chUlhdLCkg</td>\n",
       "      <td>CwPi6NVuJIZZx4IBcTekFQ</td>\n",
       "      <td>1</td>\n",
       "      <td>0</td>\n",
       "      <td>1</td>\n",
       "      <td>5</td>\n",
       "    </tr>\n",
       "    <tr>\n",
       "      <th>3</th>\n",
       "      <td>3/10/2006</td>\n",
       "      <td>b3BkUiWJEKNQko</td>\n",
       "      <td>HXjk1RVfLMPeZxitnk1Auw</td>\n",
       "      <td>43rd1LKcZRIunySzbMsyLQ</td>\n",
       "      <td>17</td>\n",
       "      <td>3</td>\n",
       "      <td>3</td>\n",
       "      <td>3</td>\n",
       "    </tr>\n",
       "    <tr>\n",
       "      <th>4</th>\n",
       "      <td>8/28/2012</td>\n",
       "      <td>RabHhte</td>\n",
       "      <td>W0ny0BqO0OJ4K4aVnSIlBw</td>\n",
       "      <td>CwPi6NVuJIZZx4IBcTekFQ</td>\n",
       "      <td>0</td>\n",
       "      <td>0</td>\n",
       "      <td>0</td>\n",
       "      <td>3</td>\n",
       "    </tr>\n",
       "  </tbody>\n",
       "</table>\n",
       "</div>"
      ],
      "text/plain": [
       "        date               review_id             reviewer_id  \\\n",
       "0  3/15/2012  -s77HISu8DVQ8F0HxmWW6A  mthr7h15a_z9m9jRI6mG6Q   \n",
       "1  6/21/2010  A2aCzGCgg6gAbatHiCrPfA  rhM01fl3iU0xHr3TIpCMhQ   \n",
       "2  7/29/2011                   DK2pd  SNHKDgmGiLn5chUlhdLCkg   \n",
       "3  3/10/2006          b3BkUiWJEKNQko  HXjk1RVfLMPeZxitnk1Auw   \n",
       "4  8/28/2012                 RabHhte  W0ny0BqO0OJ4K4aVnSIlBw   \n",
       "\n",
       "              business_id  vote_funny  vote_cool  vote_useful  rating  \n",
       "0  m5_GCJP2W4zEJnyVgxa3eA           0          1            3       1  \n",
       "1  m5_GCJP2W4zEJnyVgxa3eA           0          0            0       5  \n",
       "2  CwPi6NVuJIZZx4IBcTekFQ           1          0            1       5  \n",
       "3  43rd1LKcZRIunySzbMsyLQ          17          3            3       3  \n",
       "4  CwPi6NVuJIZZx4IBcTekFQ           0          0            0       3  "
      ]
     },
     "execution_count": 3,
     "metadata": {},
     "output_type": "execute_result"
    }
   ],
   "source": []
  },
  {
   "cell_type": "code",
   "execution_count": 5,
   "metadata": {},
   "outputs": [
    {
     "data": {
      "text/plain": [
       "5    19288\n",
       "3     6444\n",
       "1     2336\n",
       "Name: rating, dtype: int64"
      ]
     },
     "execution_count": 5,
     "metadata": {},
     "output_type": "execute_result"
    }
   ],
   "source": [
    "labels = meta_train.rating\n",
    "labels.value_counts()\n",
    "# the class distribution is uneven"
   ]
  },
  {
   "cell_type": "code",
   "execution_count": 6,
   "metadata": {},
   "outputs": [
    {
     "data": {
      "text/html": [
       "<div>\n",
       "<style scoped>\n",
       "    .dataframe tbody tr th:only-of-type {\n",
       "        vertical-align: middle;\n",
       "    }\n",
       "\n",
       "    .dataframe tbody tr th {\n",
       "        vertical-align: top;\n",
       "    }\n",
       "\n",
       "    .dataframe thead th {\n",
       "        text-align: right;\n",
       "    }\n",
       "</style>\n",
       "<table border=\"1\" class=\"dataframe\">\n",
       "  <thead>\n",
       "    <tr style=\"text-align: right;\">\n",
       "      <th></th>\n",
       "      <th>vote_funny</th>\n",
       "      <th>vote_cool</th>\n",
       "      <th>vote_useful</th>\n",
       "    </tr>\n",
       "  </thead>\n",
       "  <tbody>\n",
       "    <tr>\n",
       "      <th>0</th>\n",
       "      <td>0</td>\n",
       "      <td>1</td>\n",
       "      <td>3</td>\n",
       "    </tr>\n",
       "    <tr>\n",
       "      <th>1</th>\n",
       "      <td>0</td>\n",
       "      <td>0</td>\n",
       "      <td>0</td>\n",
       "    </tr>\n",
       "    <tr>\n",
       "      <th>2</th>\n",
       "      <td>1</td>\n",
       "      <td>0</td>\n",
       "      <td>1</td>\n",
       "    </tr>\n",
       "    <tr>\n",
       "      <th>3</th>\n",
       "      <td>17</td>\n",
       "      <td>3</td>\n",
       "      <td>3</td>\n",
       "    </tr>\n",
       "    <tr>\n",
       "      <th>4</th>\n",
       "      <td>0</td>\n",
       "      <td>0</td>\n",
       "      <td>0</td>\n",
       "    </tr>\n",
       "  </tbody>\n",
       "</table>\n",
       "</div>"
      ],
      "text/plain": [
       "   vote_funny  vote_cool  vote_useful\n",
       "0           0          1            3\n",
       "1           0          0            0\n",
       "2           1          0            1\n",
       "3          17          3            3\n",
       "4           0          0            0"
      ]
     },
     "execution_count": 6,
     "metadata": {},
     "output_type": "execute_result"
    }
   ],
   "source": [
    "votes = meta_train.loc[:,['vote_funny','vote_cool','vote_useful']]\n",
    "votes.head()"
   ]
  },
  {
   "cell_type": "markdown",
   "metadata": {},
   "source": [
    "# countVectorizer"
   ]
  },
  {
   "cell_type": "code",
   "execution_count": 7,
   "metadata": {
    "scrolled": true
   },
   "outputs": [
    {
     "name": "stderr",
     "output_type": "stream",
     "text": [
      "/Users/yuanxinyi/anaconda3/lib/python3.7/site-packages/sklearn/base.py:306: UserWarning: Trying to unpickle estimator CountVectorizer from version 0.21.3 when using version 0.21.2. This might lead to breaking code or invalid results. Use at your own risk.\n",
      "  UserWarning)\n"
     ]
    },
    {
     "data": {
      "text/plain": [
       "41648"
      ]
     },
     "execution_count": 7,
     "metadata": {},
     "output_type": "execute_result"
    }
   ],
   "source": [
    "vocab = pickle.load(open(\"review_text_features_countvec/train_countvectorizer.pkl\",\"rb\"))\n",
    "vocab_dict = vocab.vocabulary_\n",
    "len(vocab_dict)"
   ]
  },
  {
   "cell_type": "code",
   "execution_count": 8,
   "metadata": {},
   "outputs": [],
   "source": [
    "sparse_train_raw = sparse.load_npz('review_text_features_countvec/review_text_train_vec.npz')\n",
    "sparse_test_raw = sparse.load_npz('review_text_features_countvec/review_text_test_vec.npz')"
   ]
  },
  {
   "cell_type": "code",
   "execution_count": null,
   "metadata": {},
   "outputs": [],
   "source": []
  },
  {
   "cell_type": "markdown",
   "metadata": {},
   "source": [
    "# Doc2Vec"
   ]
  },
  {
   "cell_type": "code",
   "execution_count": 9,
   "metadata": {},
   "outputs": [],
   "source": [
    "doc2vec_50 = pd.read_csv(r\"review_text_features_doc2vec50/review_text_train_doc2vec50.csv\", index_col = False, delimiter = ',', header=None)\n",
    "doc2vec_100 = pd.read_csv(r\"review_text_features_doc2vec100/review_text_train_doc2vec100.csv\", index_col = False, delimiter = ',', header=None)\n",
    "doc2vec_200 = pd.read_csv(r\"review_text_features_doc2vec200/review_text_train_doc2vec200.csv\", index_col = False, delimiter = ',', header=None)\n",
    "\n"
   ]
  },
  {
   "cell_type": "markdown",
   "metadata": {},
   "source": [
    "# Preprocessing"
   ]
  },
  {
   "cell_type": "code",
   "execution_count": 10,
   "metadata": {},
   "outputs": [],
   "source": [
    "sparse_train, sparse_val, sparse_label_train, sparse_label_val = train_test_split(sparse_train_raw,labels,test_size=0.3,random_state=42)\n",
    "d2v_50_train, d2v_50_val, d2v_50_label_train, d2v_50_label_val = train_test_split(doc2vec_50,labels,test_size=0.3,random_state=42)\n",
    "d2v_100_train, d2v_100_val, d2v_100_label_train, d2v_100_label_val = train_test_split(doc2vec_100,labels,test_size=0.3,random_state=42)\n",
    "d2v_200_train, d2v_200_val, d2v_200_label_train, d2v_200_label_val = train_test_split(doc2vec_200,labels,test_size=0.3,random_state=42)"
   ]
  },
  {
   "cell_type": "markdown",
   "metadata": {},
   "source": [
    "## check based classifiers' performance"
   ]
  },
  {
   "cell_type": "code",
   "execution_count": 11,
   "metadata": {},
   "outputs": [
    {
     "name": "stdout",
     "output_type": "stream",
     "text": [
      "Train accuracy: 0.7250470809792844\n",
      "validation accuracy 0.7204607528797055\n"
     ]
    }
   ],
   "source": [
    "#gnb continues, normal distribution\n",
    "GNB = GaussianNB().fit(d2v_50_train, d2v_50_label_train)\n",
    "print(\"Train accuracy:\", GNB.score(d2v_50_train, d2v_50_label_train))\n",
    "print(\"validation accuracy\",GNB.score(d2v_50_val, d2v_50_label_val))\n",
    "# 没有用上距离 "
   ]
  },
  {
   "cell_type": "code",
   "execution_count": 12,
   "metadata": {
    "scrolled": true
   },
   "outputs": [
    {
     "data": {
      "image/png": "[encoded data removed]",
      "text/plain": [
       "<Figure size 432x288 with 1 Axes>"
      ]
     },
     "metadata": {
      "needs_background": "light"
     },
     "output_type": "display_data"
    },
    {
     "data": {
      "text/html": [
       "<div>\n",
       "<style scoped>\n",
       "    .dataframe tbody tr th:only-of-type {\n",
       "        vertical-align: middle;\n",
       "    }\n",
       "\n",
       "    .dataframe tbody tr th {\n",
       "        vertical-align: top;\n",
       "    }\n",
       "\n",
       "    .dataframe thead th {\n",
       "        text-align: right;\n",
       "    }\n",
       "</style>\n",
       "<table border=\"1\" class=\"dataframe\">\n",
       "  <thead>\n",
       "    <tr style=\"text-align: right;\">\n",
       "      <th></th>\n",
       "      <th>13</th>\n",
       "      <th>39</th>\n",
       "      <th>30</th>\n",
       "      <th>45</th>\n",
       "      <th>17</th>\n",
       "      <th>48</th>\n",
       "      <th>26</th>\n",
       "      <th>25</th>\n",
       "      <th>32</th>\n",
       "      <th>19</th>\n",
       "      <th>12</th>\n",
       "      <th>4</th>\n",
       "      <th>37</th>\n",
       "      <th>8</th>\n",
       "      <th>3</th>\n",
       "      <th>6</th>\n",
       "      <th>41</th>\n",
       "      <th>46</th>\n",
       "      <th>47</th>\n",
       "      <th>15</th>\n",
       "    </tr>\n",
       "  </thead>\n",
       "  <tbody>\n",
       "    <tr>\n",
       "      <th>count</th>\n",
       "      <td>19647.000000</td>\n",
       "      <td>19647.000000</td>\n",
       "      <td>19647.000000</td>\n",
       "      <td>19647.000000</td>\n",
       "      <td>19647.000000</td>\n",
       "      <td>19647.000000</td>\n",
       "      <td>19647.000000</td>\n",
       "      <td>19647.000000</td>\n",
       "      <td>19647.000000</td>\n",
       "      <td>19647.000000</td>\n",
       "      <td>19647.000000</td>\n",
       "      <td>19647.000000</td>\n",
       "      <td>19647.000000</td>\n",
       "      <td>19647.000000</td>\n",
       "      <td>19647.000000</td>\n",
       "      <td>19647.000000</td>\n",
       "      <td>19647.000000</td>\n",
       "      <td>19647.000000</td>\n",
       "      <td>19647.000000</td>\n",
       "      <td>19647.000000</td>\n",
       "    </tr>\n",
       "    <tr>\n",
       "      <th>mean</th>\n",
       "      <td>0.090215</td>\n",
       "      <td>0.025853</td>\n",
       "      <td>0.850929</td>\n",
       "      <td>0.172794</td>\n",
       "      <td>-0.240004</td>\n",
       "      <td>-0.429057</td>\n",
       "      <td>-0.119619</td>\n",
       "      <td>0.069255</td>\n",
       "      <td>0.094912</td>\n",
       "      <td>-0.009017</td>\n",
       "      <td>-0.906802</td>\n",
       "      <td>0.350228</td>\n",
       "      <td>-0.313558</td>\n",
       "      <td>-0.386894</td>\n",
       "      <td>-0.163016</td>\n",
       "      <td>0.268940</td>\n",
       "      <td>0.215547</td>\n",
       "      <td>-0.796383</td>\n",
       "      <td>-0.518124</td>\n",
       "      <td>0.521983</td>\n",
       "    </tr>\n",
       "    <tr>\n",
       "      <th>std</th>\n",
       "      <td>0.889175</td>\n",
       "      <td>0.925902</td>\n",
       "      <td>0.806768</td>\n",
       "      <td>0.959072</td>\n",
       "      <td>0.811540</td>\n",
       "      <td>0.890968</td>\n",
       "      <td>0.872880</td>\n",
       "      <td>0.888471</td>\n",
       "      <td>0.892885</td>\n",
       "      <td>0.984496</td>\n",
       "      <td>0.852623</td>\n",
       "      <td>0.851379</td>\n",
       "      <td>0.852938</td>\n",
       "      <td>0.843083</td>\n",
       "      <td>0.939682</td>\n",
       "      <td>1.047411</td>\n",
       "      <td>0.886993</td>\n",
       "      <td>0.893311</td>\n",
       "      <td>0.801959</td>\n",
       "      <td>0.877969</td>\n",
       "    </tr>\n",
       "    <tr>\n",
       "      <th>min</th>\n",
       "      <td>-4.200651</td>\n",
       "      <td>-4.440148</td>\n",
       "      <td>-3.586761</td>\n",
       "      <td>-4.634739</td>\n",
       "      <td>-5.311850</td>\n",
       "      <td>-4.802133</td>\n",
       "      <td>-5.090477</td>\n",
       "      <td>-4.127858</td>\n",
       "      <td>-4.009519</td>\n",
       "      <td>-6.007782</td>\n",
       "      <td>-6.141600</td>\n",
       "      <td>-3.307814</td>\n",
       "      <td>-4.161903</td>\n",
       "      <td>-4.702122</td>\n",
       "      <td>-4.338859</td>\n",
       "      <td>-4.600892</td>\n",
       "      <td>-4.265421</td>\n",
       "      <td>-5.046792</td>\n",
       "      <td>-5.346771</td>\n",
       "      <td>-3.569149</td>\n",
       "    </tr>\n",
       "    <tr>\n",
       "      <th>25%</th>\n",
       "      <td>-0.439058</td>\n",
       "      <td>-0.485122</td>\n",
       "      <td>0.383080</td>\n",
       "      <td>-0.377169</td>\n",
       "      <td>-0.713971</td>\n",
       "      <td>-0.929362</td>\n",
       "      <td>-0.645791</td>\n",
       "      <td>-0.456548</td>\n",
       "      <td>-0.444053</td>\n",
       "      <td>-0.537551</td>\n",
       "      <td>-1.379853</td>\n",
       "      <td>-0.166479</td>\n",
       "      <td>-0.832655</td>\n",
       "      <td>-0.874294</td>\n",
       "      <td>-0.743055</td>\n",
       "      <td>-0.345107</td>\n",
       "      <td>-0.314988</td>\n",
       "      <td>-1.352039</td>\n",
       "      <td>-0.984374</td>\n",
       "      <td>-0.010292</td>\n",
       "    </tr>\n",
       "    <tr>\n",
       "      <th>50%</th>\n",
       "      <td>0.104774</td>\n",
       "      <td>0.074407</td>\n",
       "      <td>0.851480</td>\n",
       "      <td>0.219371</td>\n",
       "      <td>-0.249571</td>\n",
       "      <td>-0.406130</td>\n",
       "      <td>-0.152344</td>\n",
       "      <td>0.075004</td>\n",
       "      <td>0.077570</td>\n",
       "      <td>0.046842</td>\n",
       "      <td>-0.868350</td>\n",
       "      <td>0.308028</td>\n",
       "      <td>-0.343053</td>\n",
       "      <td>-0.372472</td>\n",
       "      <td>-0.217897</td>\n",
       "      <td>0.285190</td>\n",
       "      <td>0.181757</td>\n",
       "      <td>-0.846346</td>\n",
       "      <td>-0.512373</td>\n",
       "      <td>0.494315</td>\n",
       "    </tr>\n",
       "    <tr>\n",
       "      <th>75%</th>\n",
       "      <td>0.619652</td>\n",
       "      <td>0.584524</td>\n",
       "      <td>1.338596</td>\n",
       "      <td>0.762085</td>\n",
       "      <td>0.240455</td>\n",
       "      <td>0.088540</td>\n",
       "      <td>0.376360</td>\n",
       "      <td>0.594184</td>\n",
       "      <td>0.612645</td>\n",
       "      <td>0.583968</td>\n",
       "      <td>-0.395332</td>\n",
       "      <td>0.843131</td>\n",
       "      <td>0.166176</td>\n",
       "      <td>0.114847</td>\n",
       "      <td>0.350179</td>\n",
       "      <td>0.893530</td>\n",
       "      <td>0.715902</td>\n",
       "      <td>-0.308867</td>\n",
       "      <td>-0.057334</td>\n",
       "      <td>1.038626</td>\n",
       "    </tr>\n",
       "    <tr>\n",
       "      <th>max</th>\n",
       "      <td>4.608506</td>\n",
       "      <td>4.346645</td>\n",
       "      <td>5.305717</td>\n",
       "      <td>4.298314</td>\n",
       "      <td>4.237228</td>\n",
       "      <td>5.408000</td>\n",
       "      <td>5.838019</td>\n",
       "      <td>4.394520</td>\n",
       "      <td>4.329350</td>\n",
       "      <td>3.844930</td>\n",
       "      <td>3.455775</td>\n",
       "      <td>4.783883</td>\n",
       "      <td>4.225630</td>\n",
       "      <td>3.381518</td>\n",
       "      <td>5.114439</td>\n",
       "      <td>5.280435</td>\n",
       "      <td>5.787242</td>\n",
       "      <td>4.918091</td>\n",
       "      <td>3.877673</td>\n",
       "      <td>5.072577</td>\n",
       "    </tr>\n",
       "  </tbody>\n",
       "</table>\n",
       "</div>"
      ],
      "text/plain": [
       "                 13            39            30            45            17  \\\n",
       "count  19647.000000  19647.000000  19647.000000  19647.000000  19647.000000   \n",
       "mean       0.090215      0.025853      0.850929      0.172794     -0.240004   \n",
       "std        0.889175      0.925902      0.806768      0.959072      0.811540   \n",
       "min       -4.200651     -4.440148     -3.586761     -4.634739     -5.311850   \n",
       "25%       -0.439058     -0.485122      0.383080     -0.377169     -0.713971   \n",
       "50%        0.104774      0.074407      0.851480      0.219371     -0.249571   \n",
       "75%        0.619652      0.584524      1.338596      0.762085      0.240455   \n",
       "max        4.608506      4.346645      5.305717      4.298314      4.237228   \n",
       "\n",
       "                 48            26            25            32            19  \\\n",
       "count  19647.000000  19647.000000  19647.000000  19647.000000  19647.000000   \n",
       "mean      -0.429057     -0.119619      0.069255      0.094912     -0.009017   \n",
       "std        0.890968      0.872880      0.888471      0.892885      0.984496   \n",
       "min       -4.802133     -5.090477     -4.127858     -4.009519     -6.007782   \n",
       "25%       -0.929362     -0.645791     -0.456548     -0.444053     -0.537551   \n",
       "50%       -0.406130     -0.152344      0.075004      0.077570      0.046842   \n",
       "75%        0.088540      0.376360      0.594184      0.612645      0.583968   \n",
       "max        5.408000      5.838019      4.394520      4.329350      3.844930   \n",
       "\n",
       "                 12            4             37            8             3   \\\n",
       "count  19647.000000  19647.000000  19647.000000  19647.000000  19647.000000   \n",
       "mean      -0.906802      0.350228     -0.313558     -0.386894     -0.163016   \n",
       "std        0.852623      0.851379      0.852938      0.843083      0.939682   \n",
       "min       -6.141600     -3.307814     -4.161903     -4.702122     -4.338859   \n",
       "25%       -1.379853     -0.166479     -0.832655     -0.874294     -0.743055   \n",
       "50%       -0.868350      0.308028     -0.343053     -0.372472     -0.217897   \n",
       "75%       -0.395332      0.843131      0.166176      0.114847      0.350179   \n",
       "max        3.455775      4.783883      4.225630      3.381518      5.114439   \n",
       "\n",
       "                 6             41            46            47            15  \n",
       "count  19647.000000  19647.000000  19647.000000  19647.000000  19647.000000  \n",
       "mean       0.268940      0.215547     -0.796383     -0.518124      0.521983  \n",
       "std        1.047411      0.886993      0.893311      0.801959      0.877969  \n",
       "min       -4.600892     -4.265421     -5.046792     -5.346771     -3.569149  \n",
       "25%       -0.345107     -0.314988     -1.352039     -0.984374     -0.010292  \n",
       "50%        0.285190      0.181757     -0.846346     -0.512373      0.494315  \n",
       "75%        0.893530      0.715902     -0.308867     -0.057334      1.038626  \n",
       "max        5.280435      5.787242      4.918091      3.877673      5.072577  "
      ]
     },
     "execution_count": 12,
     "metadata": {},
     "output_type": "execute_result"
    }
   ],
   "source": [
    "plt.hist(d2v_50_train[1],bins = 20)\n",
    "plt.show()\n",
    "#gnb worse among all but not too bad\n",
    "# hypothesis: not all normally distributed\n",
    "# check some\n",
    "d2v_50_train.sample(n=20,axis=1, random_state=42).describe()"
   ]
  },
  {
   "cell_type": "code",
   "execution_count": 13,
   "metadata": {},
   "outputs": [],
   "source": [
    "# from above\n",
    "# evenly distributed (mean is close to median and both values are roughtly in the moddle of (min,max))\n",
    "#no extreme values ,suggest normal distribution is not so problematic\n",
    "\n",
    "#featires in doc2v50 are not representative of the data, at least for gnb\n",
    "# gnb 没有考虑到d2v的特性 feature相互之间的关系/距离\n",
    "# each feature is not consider as interpretable concept "
   ]
  },
  {
   "cell_type": "code",
   "execution_count": 14,
   "metadata": {},
   "outputs": [
    {
     "name": "stdout",
     "output_type": "stream",
     "text": [
      "Train accuracy: 0.9038021071919377\n",
      "validation accuracy 0.8389739935874599\n"
     ]
    }
   ],
   "source": [
    "# mnb discrete\n",
    "MNB =  MultinomialNB().fit(sparse_train, sparse_label_train)\n",
    "print(\"Train accuracy:\", MNB.score(sparse_train, sparse_label_train))\n",
    "print(\"validation accuracy\", MNB.score(sparse_val, sparse_label_val))"
   ]
  },
  {
   "cell_type": "code",
   "execution_count": 15,
   "metadata": {},
   "outputs": [
    {
     "name": "stdout",
     "output_type": "stream",
     "text": [
      "Train accuracy: 0.7948287270321168\n",
      "validation accuracy 0.7402921268257927\n"
     ]
    }
   ],
   "source": [
    "#bnb  binary\n",
    "BNB = BernoulliNB().fit(sparse_train, sparse_label_train)\n",
    "print(\"Train accuracy:\", BNB.score(sparse_train, sparse_label_train))\n",
    "print(\"validation accuracy\", BNB.score(sparse_val, sparse_label_val))"
   ]
  },
  {
   "cell_type": "code",
   "execution_count": 16,
   "metadata": {},
   "outputs": [
    {
     "data": {
      "text/plain": [
       "0.7082294264339152"
      ]
     },
     "execution_count": 16,
     "metadata": {},
     "output_type": "execute_result"
    }
   ],
   "source": [
    "#1_R\n",
    "from sklearn.tree import DecisionTreeClassifier\n",
    "one_r = DecisionTreeClassifier(max_depth=1)\n",
    "one_r.fit(sparse_train, sparse_label_train)\n",
    "one_r_acc = one_r.score(sparse_val, sparse_label_val)\n",
    "one_r_acc"
   ]
  },
  {
   "cell_type": "markdown",
   "metadata": {},
   "source": [
    "## feature selection"
   ]
  },
  {
   "cell_type": "code",
   "execution_count": 17,
   "metadata": {},
   "outputs": [],
   "source": [
    "from sklearn.feature_extraction.text import TfidfTransformer\n",
    "from sklearn.feature_selection import SelectKBest, chi2, f_classif"
   ]
  },
  {
   "cell_type": "code",
   "execution_count": 18,
   "metadata": {},
   "outputs": [
    {
     "data": {
      "text/plain": [
       "(TfidfTransformer(norm='l2', smooth_idf=True, sublinear_tf=False, use_idf=True),\n",
       " (19647, 41648))"
      ]
     },
     "execution_count": 18,
     "metadata": {},
     "output_type": "execute_result"
    }
   ],
   "source": [
    "tfidf = TfidfTransformer().fit(sparse_train)\n",
    "tfidf_train = tfidf.transform(sparse_train)\n",
    "tfidf_val = tfidf.transform(sparse_val)\n",
    "\n",
    "tfidf, tfidf_train.shape"
   ]
  },
  {
   "cell_type": "code",
   "execution_count": 19,
   "metadata": {},
   "outputs": [
    {
     "data": {
      "text/plain": [
       "(SelectKBest(k=4000, score_func=<function chi2 at 0x1a2253d7b8>),\n",
       " (19647, 4000))"
      ]
     },
     "execution_count": 19,
     "metadata": {},
     "output_type": "execute_result"
    }
   ],
   "source": [
    "kbest = SelectKBest(chi2, k=4000)\n",
    "\n",
    "kbest_train= kbest.fit_transform(sparse_train, sparse_label_train)\n",
    "kbest_val = kbest.transform(sparse_val)\n",
    "\n",
    "kbest,kbest_train.shape\n"
   ]
  },
  {
   "cell_type": "markdown",
   "metadata": {},
   "source": [
    "## grid search to choose optimistic para"
   ]
  },
  {
   "cell_type": "code",
   "execution_count": 20,
   "metadata": {},
   "outputs": [],
   "source": [
    "from sklearn.linear_model import SGDClassifier, LogisticRegression\n",
    "from sklearn.svm import LinearSVC, SVC"
   ]
  },
  {
   "cell_type": "code",
   "execution_count": 21,
   "metadata": {},
   "outputs": [
    {
     "name": "stdout",
     "output_type": "stream",
     "text": [
      "Train accuracy: 0.9589250267216369\n",
      "validation accuracy: 0.8455052844080275\n"
     ]
    }
   ],
   "source": [
    "# random gradient descent\n",
    "sgd = SGDClassifier(loss='log', random_state=42) #logistic regression\n",
    "sgd.fit(sparse_train, sparse_label_train)\n",
    "print(\"Train accuracy:\", sgd.score(sparse_train, sparse_label_train))\n",
    "print(\"validation accuracy:\", sgd.score(sparse_val,sparse_label_val))"
   ]
  },
  {
   "cell_type": "code",
   "execution_count": 22,
   "metadata": {},
   "outputs": [
    {
     "name": "stdout",
     "output_type": "stream",
     "text": [
      "Performing grid search...\n",
      "pipeline: ['tfidf', 'kbest', 'sgd']\n",
      "parameters:\n",
      "{'kbest__k': (1000, 5000, 10000, 20000, 'all'),\n",
      " 'kbest__score_func': (<function chi2 at 0x1a2253d7b8>,\n",
      "                       <function f_classif at 0x1a2253d6a8>),\n",
      " 'sgd__loss': ('hinge', 'log'),\n",
      " 'sgd__penalty': ('l2', 'elasticnet'),\n",
      " 'tfidf__norm': ('l1', 'l2'),\n",
      " 'tfidf__sublinear_tf': (True, False)}\n",
      "Fitting 5 folds for each of 160 candidates, totalling 800 fits\n"
     ]
    },
    {
     "name": "stderr",
     "output_type": "stream",
     "text": [
      "[Parallel(n_jobs=-1)]: Using backend LokyBackend with 4 concurrent workers.\n",
      "[Parallel(n_jobs=-1)]: Done  42 tasks      | elapsed:    6.2s\n",
      "[Parallel(n_jobs=-1)]: Done 192 tasks      | elapsed:   21.4s\n",
      "[Parallel(n_jobs=-1)]: Done 442 tasks      | elapsed:   53.1s\n",
      "[Parallel(n_jobs=-1)]: Done 792 tasks      | elapsed:  1.8min\n",
      "[Parallel(n_jobs=-1)]: Done 800 out of 800 | elapsed:  1.8min finished\n"
     ]
    },
    {
     "name": "stdout",
     "output_type": "stream",
     "text": [
      "done in 109.306s\n",
      "\n",
      "Best score: 0.845\n",
      "Best parameters set:\n",
      "\tkbest__k: 'all'\n",
      "\tkbest__score_func: <function chi2 at 0x1a2253d7b8>\n",
      "\tsgd__loss: 'hinge'\n",
      "\tsgd__penalty: 'l2'\n",
      "\ttfidf__norm: 'l2'\n",
      "\ttfidf__sublinear_tf: True\n"
     ]
    }
   ],
   "source": [
    "# Author: Olivier Grisel <olivier.grisel@ensta.org>\n",
    "#         Peter Prettenhofer <peter.prettenhofer@gmail.com>\n",
    "#         Mathieu Blondel <mathieu@mblondel.org>\n",
    "# License: BSD 3 clause\n",
    "from pprint import pprint\n",
    "from time import time\n",
    "\n",
    "from sklearn.pipeline import Pipeline\n",
    "from sklearn.feature_extraction.text import TfidfTransformer\n",
    "from sklearn.linear_model import SGDClassifier\n",
    "from sklearn.model_selection import GridSearchCV\n",
    "\n",
    "#############################################################################\n",
    "# Define a pipeline combining a text feature extractor with a simple\n",
    "# classifier\n",
    "pipeline = Pipeline([\n",
    "    ('tfidf', TfidfTransformer()),\n",
    "    ('kbest',SelectKBest()),\n",
    "    ('sgd', SGDClassifier(random_state=42)),\n",
    "])\n",
    "\n",
    "# uncommenting more parameters will give better exploring power but will\n",
    "# increase processing time in a combinatorial way\n",
    "parameters = {\n",
    "    'tfidf__norm': ('l1', 'l2'),\n",
    "    'tfidf__sublinear_tf': (True, False),\n",
    "    'kbest__score_func':(chi2,f_classif),\n",
    "    'kbest__k': (1000,5000,10000,20000,'all'),\n",
    "    'sgd__penalty': ('l2', 'elasticnet'),\n",
    "    'sgd__loss': ('hinge','log')\n",
    "}\n",
    "\n",
    "if __name__ == \"__main__\":\n",
    "    # multiprocessing requires the fork to happen in a __main__ protected\n",
    "    # block\n",
    "\n",
    "    # find the best parameters for both the feature extraction and the\n",
    "    # classifier\n",
    "    grid_search = GridSearchCV(pipeline, parameters, cv=5, n_jobs=-1, verbose=1)\n",
    "\n",
    "    print(\"Performing grid search...\")\n",
    "    print(\"pipeline:\", [name for name, _ in pipeline.steps])\n",
    "    print(\"parameters:\")\n",
    "    pprint(parameters)\n",
    "    t0 = time()\n",
    "    grid_search.fit(sparse_train, sparse_label_train)\n",
    "    print(\"done in %0.3fs\" % (time() - t0))\n",
    "    print()\n",
    "\n",
    "    print(\"Best score: %0.3f\" % grid_search.best_score_)\n",
    "    print(\"Best parameters set:\")\n",
    "    best_parameters = grid_search.best_estimator_.get_params()\n",
    "    for param_name in sorted(parameters.keys()):\n",
    "        print(\"\\t%s: %r\" % (param_name, best_parameters[param_name]))"
   ]
  },
  {
   "cell_type": "code",
   "execution_count": 23,
   "metadata": {},
   "outputs": [],
   "source": [
    "results = grid_search.cv_results_ \n",
    "test_scores = results['mean_test_score']\n",
    "params = results['params']\n",
    "rank_score = results['rank_test_score']"
   ]
  },
  {
   "cell_type": "code",
   "execution_count": 24,
   "metadata": {},
   "outputs": [],
   "source": [
    "rank = sorted(range(len(rank_score)), key=rank_score.__getitem__)"
   ]
  },
  {
   "cell_type": "code",
   "execution_count": 25,
   "metadata": {},
   "outputs": [
    {
     "name": "stdout",
     "output_type": "stream",
     "text": [
      "parameter set: {'kbest__k': 'all', 'kbest__score_func': <function chi2 at 0x1a2253d7b8>, 'sgd__loss': 'hinge', 'sgd__penalty': 'l2', 'tfidf__norm': 'l2', 'tfidf__sublinear_tf': True}\n",
      "Accuracy: 0.8451163027434214\n",
      "\n",
      "parameter set: {'kbest__k': 'all', 'kbest__score_func': <function f_classif at 0x1a2253d6a8>, 'sgd__loss': 'hinge', 'sgd__penalty': 'l2', 'tfidf__norm': 'l2', 'tfidf__sublinear_tf': True}\n",
      "Accuracy: 0.8451163027434214\n",
      "\n",
      "parameter set: {'kbest__k': 20000, 'kbest__score_func': <function chi2 at 0x1a2253d7b8>, 'sgd__loss': 'hinge', 'sgd__penalty': 'l2', 'tfidf__norm': 'l2', 'tfidf__sublinear_tf': True}\n",
      "Accuracy: 0.844912709319489\n",
      "\n",
      "parameter set: {'kbest__k': 20000, 'kbest__score_func': <function f_classif at 0x1a2253d6a8>, 'sgd__loss': 'hinge', 'sgd__penalty': 'l2', 'tfidf__norm': 'l2', 'tfidf__sublinear_tf': True}\n",
      "Accuracy: 0.8436402504199114\n",
      "\n",
      "parameter set: {'kbest__k': 'all', 'kbest__score_func': <function chi2 at 0x1a2253d7b8>, 'sgd__loss': 'hinge', 'sgd__penalty': 'elasticnet', 'tfidf__norm': 'l2', 'tfidf__sublinear_tf': True}\n",
      "Accuracy: 0.8430803685040973\n",
      "\n"
     ]
    }
   ],
   "source": [
    "for i in rank[:5]:\n",
    "    print(\"parameter set:\", params[i])\n",
    "    print(\"Accuracy:\", test_scores[i])\n",
    "    print()    "
   ]
  },
  {
   "cell_type": "code",
   "execution_count": 26,
   "metadata": {},
   "outputs": [],
   "source": [
    "tfidf_opt = TfidfTransformer(norm='l2', sublinear_tf=True).fit(sparse_train)\n",
    "tfidf_train = tfidf_opt.transform(sparse_train)\n",
    "tfidf_val = tfidf_opt.transform(sparse_val)\n",
    "tfidf_test = tfidf_opt.transform(sparse_test_raw)"
   ]
  },
  {
   "cell_type": "code",
   "execution_count": 27,
   "metadata": {},
   "outputs": [
    {
     "name": "stdout",
     "output_type": "stream",
     "text": [
      "Train accuracy: 0.9085865526543493\n",
      "validation accuracy: 0.8528678304239401\n"
     ]
    }
   ],
   "source": [
    "sgd_opt = SGDClassifier(loss='hinge', penalty=\"l2\", random_state=42).fit(tfidf_train, sparse_label_train)\n",
    "print(\"Train accuracy:\", sgd_opt.score(tfidf_train, sparse_label_train))\n",
    "print(\"validation accuracy:\", sgd_opt.score(tfidf_val,sparse_label_val))"
   ]
  },
  {
   "cell_type": "code",
   "execution_count": 28,
   "metadata": {},
   "outputs": [],
   "source": [
    "kbest_20k = SelectKBest(chi2, k=20000).fit(tfidf_train, sparse_label_train)\n",
    "train_20k= kbest_20k.transform(tfidf_train)\n",
    "val_20k = kbest_20k.transform(tfidf_val)\n",
    "test_20k = kbest_20k.transform(tfidf_test)"
   ]
  },
  {
   "cell_type": "code",
   "execution_count": 29,
   "metadata": {},
   "outputs": [
    {
     "name": "stdout",
     "output_type": "stream",
     "text": [
      "Train accuracy: 0.9023260548684278\n",
      "validation accuracy: 0.8531053319083244\n"
     ]
    }
   ],
   "source": [
    "sgd_20k = SGDClassifier(loss='hinge', penalty='l2', random_state=42).fit(train_20k, sparse_label_train)\n",
    "print(\"Train accuracy:\", sgd_20k.score(train_20k, sparse_label_train))\n",
    "print(\"validation accuracy:\", sgd_20k.score(val_20k,sparse_label_val))"
   ]
  },
  {
   "cell_type": "code",
   "execution_count": 30,
   "metadata": {},
   "outputs": [
    {
     "name": "stdout",
     "output_type": "stream",
     "text": [
      "Train accuracy: 0.8272000814373696\n",
      "validation accuracy: 0.8260301626885168\n"
     ]
    }
   ],
   "source": [
    "#doc2v\n",
    "sgd_d2v= SGDClassifier(random_state=42).fit(d2v_200_train, sparse_label_train)\n",
    "print(\"Train accuracy:\", sgd_d2v.score(d2v_200_train, sparse_label_train))\n",
    "print(\"validation accuracy:\", sgd_d2v.score(d2v_200_val,sparse_label_val))"
   ]
  },
  {
   "cell_type": "code",
   "execution_count": 31,
   "metadata": {},
   "outputs": [],
   "source": [
    "from sklearn.linear_model import SGDClassifier, LogisticRegression\n",
    "from sklearn.svm import LinearSVC,SVC\n",
    "from sklearn.model_selection import cross_validate, cross_val_score"
   ]
  },
  {
   "cell_type": "code",
   "execution_count": 32,
   "metadata": {
    "scrolled": true
   },
   "outputs": [
    {
     "name": "stdout",
     "output_type": "stream",
     "text": [
      "Avg train accuracy: 0.8471523187867538\n",
      "validation accuracy: 0.8517990737442109\n"
     ]
    }
   ],
   "source": [
    "svc = LinearSVC().fit(train_20k, sparse_label_train)\n",
    "\n",
    "print(\"Avg train accuracy:\", cross_val_score(svc, train_20k, sparse_label_train, cv=5).mean())\n",
    "print(\"validation accuracy:\", svc.score(val_20k, sparse_label_val))"
   ]
  },
  {
   "cell_type": "code",
   "execution_count": 33,
   "metadata": {},
   "outputs": [
    {
     "name": "stdout",
     "output_type": "stream",
     "text": [
      "              precision    recall  f1-score   support\n",
      "\n",
      "           1       0.84      0.63      0.72       717\n",
      "           3       0.71      0.65      0.68      1854\n",
      "           5       0.89      0.94      0.92      5850\n",
      "\n",
      "    accuracy                           0.85      8421\n",
      "   macro avg       0.81      0.74      0.77      8421\n",
      "weighted avg       0.85      0.85      0.85      8421\n",
      "\n"
     ]
    }
   ],
   "source": [
    "from sklearn.metrics import classification_report, confusion_matrix\n",
    "svc_prediction = svc.predict(val_20k)\n",
    "print(classification_report(sparse_label_val, svc_prediction))"
   ]
  },
  {
   "cell_type": "code",
   "execution_count": 34,
   "metadata": {},
   "outputs": [
    {
     "data": {
      "text/plain": [
       "array([[ 452,  184,   81],\n",
       "       [  67, 1199,  588],\n",
       "       [  18,  310, 5522]])"
      ]
     },
     "execution_count": 34,
     "metadata": {},
     "output_type": "execute_result"
    }
   ],
   "source": [
    "matric_svc = confusion_matrix(sparse_label_val, svc_prediction)\n",
    "matric_svc"
   ]
  },
  {
   "cell_type": "code",
   "execution_count": 35,
   "metadata": {},
   "outputs": [
    {
     "data": {
      "image/png": "[encoded data removed]",
      "text/plain": [
       "<Figure size 432x288 with 2 Axes>"
      ]
     },
     "metadata": {
      "needs_background": "light"
     },
     "output_type": "display_data"
    }
   ],
   "source": [
    "import seaborn as sns\n",
    "sns.heatmap(matric_svc, annot=True, fmt='d', xticklabels=['1','3','5'],yticklabels=['1','3','5'], cmap='Greens')\n",
    "plt.title('confusion matrix &heatmap')\n",
    "plt.xlabel('Predicted class')\n",
    "plt.yticks(rotation=360)\n",
    "plt.ylabel('Actual class')\n",
    "plt.show()"
   ]
  },
  {
   "cell_type": "code",
   "execution_count": 36,
   "metadata": {},
   "outputs": [],
   "source": [
    "from sklearn.ensemble import BaggingClassifier"
   ]
  },
  {
   "cell_type": "code",
   "execution_count": 37,
   "metadata": {},
   "outputs": [
    {
     "data": {
      "text/plain": [
       "<7018x20000 sparse matrix of type '<class 'numpy.float64'>'\n",
       "\twith 325171 stored elements in Compressed Sparse Row format>"
      ]
     },
     "execution_count": 37,
     "metadata": {},
     "output_type": "execute_result"
    }
   ],
   "source": [
    "test_20k"
   ]
  },
  {
   "cell_type": "code",
   "execution_count": 51,
   "metadata": {},
   "outputs": [
    {
     "data": {
      "text/plain": [
       "array([5, 5, 1, ..., 3, 5, 5])"
      ]
     },
     "execution_count": 51,
     "metadata": {},
     "output_type": "execute_result"
    }
   ],
   "source": [
    "p=final_svc.predict(test_opt)\n",
    "p"
   ]
  },
  {
   "cell_type": "code",
   "execution_count": 52,
   "metadata": {},
   "outputs": [],
   "source": [
    "test_review = pd.read_csv(\"review_text_test.csv\")\n",
    "out = pd.DataFrame()\n",
    "out['Instance_id']= np.arange(1,len(test_review)+1)\n",
    "out['rating'] = p\n",
    "out.to_csv('result5.csv', index = False)"
   ]
  },
  {
   "cell_type": "code",
   "execution_count": 45,
   "metadata": {},
   "outputs": [
    {
     "name": "stderr",
     "output_type": "stream",
     "text": [
      "[Parallel(n_jobs=-1)]: Using backend LokyBackend with 4 concurrent workers.\n",
      "[Parallel(n_jobs=-1)]: Done   3 out of  50 | elapsed:    3.1s remaining:   48.6s\n",
      "[Parallel(n_jobs=-1)]: Done   9 out of  50 | elapsed:    6.8s remaining:   30.8s\n",
      "[Parallel(n_jobs=-1)]: Done  15 out of  50 | elapsed:   10.4s remaining:   24.2s\n",
      "[Parallel(n_jobs=-1)]: Done  21 out of  50 | elapsed:   13.0s remaining:   17.9s\n",
      "[Parallel(n_jobs=-1)]: Done  27 out of  50 | elapsed:   18.1s remaining:   15.4s\n",
      "[Parallel(n_jobs=-1)]: Done  33 out of  50 | elapsed:   20.7s remaining:   10.6s\n",
      "[Parallel(n_jobs=-1)]: Done  39 out of  50 | elapsed:   25.5s remaining:    7.2s\n",
      "[Parallel(n_jobs=-1)]: Done  45 out of  50 | elapsed:   30.9s remaining:    3.4s\n",
      "[Parallel(n_jobs=-1)]: Done  50 out of  50 | elapsed:   37.2s finished\n"
     ]
    }
   ],
   "source": [
    "from sklearn.model_selection import validation_curve,learning_curve\n",
    "\n",
    "param_range = np.logspace(-3, 3, 10)\n",
    "train_scores, test_scores = validation_curve(\n",
    "    LinearSVC(), train_20k, sparse_label_train, param_name=\"C\", param_range=param_range,\n",
    "    cv=5, verbose=10,n_jobs=-1)"
   ]
  },
  {
   "cell_type": "code",
   "execution_count": 46,
   "metadata": {},
   "outputs": [
    {
     "data": {
      "image/png": "[encoded data removed]",
      "text/plain": [
       "<Figure size 432x288 with 1 Axes>"
      ]
     },
     "metadata": {
      "needs_background": "light"
     },
     "output_type": "display_data"
    }
   ],
   "source": [
    "train_scores_mean = np.mean(train_scores, axis=1)\n",
    "train_scores_std = np.std(train_scores, axis=1)\n",
    "test_scores_mean = np.mean(test_scores, axis=1)\n",
    "test_scores_std = np.std(test_scores, axis=1)\n",
    "\n",
    "plt.title(\"Validation Curve with SVM\")\n",
    "plt.xlabel(r\"$\\gamma$\")\n",
    "plt.ylabel(\"Score\")\n",
    "plt.ylim(0.0, 1.1)\n",
    "lw = 2\n",
    "plt.semilogx(param_range, train_scores_mean, label=\"Training score\",\n",
    "             color=\"darkorange\", lw=lw)\n",
    "plt.fill_between(param_range, train_scores_mean - train_scores_std,\n",
    "                 train_scores_mean + train_scores_std, alpha=0.2,\n",
    "                 color=\"darkorange\", lw=lw)\n",
    "plt.semilogx(param_range, test_scores_mean, label=\"Cross-validation score\",\n",
    "             color=\"navy\", lw=lw)\n",
    "plt.fill_between(param_range, test_scores_mean - test_scores_std,\n",
    "                 test_scores_mean + test_scores_std, alpha=0.2,\n",
    "                 color=\"navy\", lw=lw)\n",
    "plt.legend(loc=\"best\")\n",
    "plt.show()"
   ]
  },
  {
   "cell_type": "code",
   "execution_count": 47,
   "metadata": {},
   "outputs": [
    {
     "data": {
      "text/plain": [
       "0.46415888336127775"
      ]
     },
     "execution_count": 47,
     "metadata": {},
     "output_type": "execute_result"
    }
   ],
   "source": [
    "best_c = param_range[test_scores_mean.argmax()]\n",
    "best_c"
   ]
  },
  {
   "cell_type": "code",
   "execution_count": 50,
   "metadata": {},
   "outputs": [],
   "source": [
    "tfidf_opt = TfidfTransformer(norm='l2', sublinear_tf=True).fit(sparse_train_raw)\n",
    "train_opt = tfidf_opt.transform(sparse_train_raw)\n",
    "test_opt = tfidf_opt.transform(sparse_test_raw)\n",
    "final_svc = LinearSVC(C=best_c).fit(train_opt,labels)"
   ]
  },
  {
   "cell_type": "code",
   "execution_count": null,
   "metadata": {},
   "outputs": [],
   "source": []
  }
 ],
 "metadata": {
  "kernelspec": {
   "display_name": "Python 3",
   "language": "python",
   "name": "python3"
  },
  "language_info": {
   "codemirror_mode": {
    "name": "ipython",
    "version": 3
   },
   "file_extension": ".py",
   "mimetype": "text/x-python",
   "name": "python",
   "nbconvert_exporter": "python",
   "pygments_lexer": "ipython3",
   "version": "3.7.3"
  }
 },
 "nbformat": 4,
 "nbformat_minor": 2
}
